{
 "cells": [
  {
   "cell_type": "code",
   "execution_count": 1,
   "id": "2c42e78f-c4a0-47bd-ae2c-a54da0917f79",
   "metadata": {},
   "outputs": [],
   "source": [
    "import gzip\n",
    "\n",
    "with gzip.open(\"goodreads_books.json.gz\") as f:\n",
    "    line = f.readline()"
   ]
  },
  {
   "cell_type": "code",
   "execution_count": 2,
   "id": "7f8b6cf4-ec1a-400d-992d-50ccb61d349d",
   "metadata": {},
   "outputs": [
    {
     "data": {
      "text/plain": [
       "{'isbn': '0312853122',\n",
       " 'text_reviews_count': '1',\n",
       " 'series': [],\n",
       " 'country_code': 'US',\n",
       " 'language_code': '',\n",
       " 'popular_shelves': [{'count': '3', 'name': 'to-read'},\n",
       "  {'count': '1', 'name': 'p'},\n",
       "  {'count': '1', 'name': 'collection'},\n",
       "  {'count': '1', 'name': 'w-c-fields'},\n",
       "  {'count': '1', 'name': 'biography'}],\n",
       " 'asin': '',\n",
       " 'is_ebook': 'false',\n",
       " 'average_rating': '4.00',\n",
       " 'kindle_asin': '',\n",
       " 'similar_books': [],\n",
       " 'description': '',\n",
       " 'format': 'Paperback',\n",
       " 'link': 'https://www.goodreads.com/book/show/5333265-w-c-fields',\n",
       " 'authors': [{'author_id': '604031', 'role': ''}],\n",
       " 'publisher': \"St. Martin's Press\",\n",
       " 'num_pages': '256',\n",
       " 'publication_day': '1',\n",
       " 'isbn13': '9780312853129',\n",
       " 'publication_month': '9',\n",
       " 'edition_information': '',\n",
       " 'publication_year': '1984',\n",
       " 'url': 'https://www.goodreads.com/book/show/5333265-w-c-fields',\n",
       " 'image_url': 'https://images.gr-assets.com/books/1310220028m/5333265.jpg',\n",
       " 'book_id': '5333265',\n",
       " 'ratings_count': '3',\n",
       " 'work_id': '5400751',\n",
       " 'title': 'W.C. Fields: A Life on Film',\n",
       " 'title_without_series': 'W.C. Fields: A Life on Film'}"
      ]
     },
     "execution_count": 2,
     "metadata": {},
     "output_type": "execute_result"
    }
   ],
   "source": [
    "import json\n",
    "\n",
    "data = json.loads(line)\n",
    "data"
   ]
  },
  {
   "cell_type": "code",
   "execution_count": 3,
   "id": "8273e779-d7b9-4264-9828-d06808c65034",
   "metadata": {},
   "outputs": [],
   "source": [
    "def parse_fields(line):\n",
    "    data = json.loads(line)\n",
    "    return {\n",
    "        \"book_id\": data[\"book_id\"], \n",
    "        \"title\": data[\"title_without_series\"], \n",
    "        \"ratings\": data[\"ratings_count\"], \n",
    "        \"url\": data[\"url\"], \n",
    "        \"cover_image\": data[\"image_url\"]\n",
    "    }"
   ]
  },
  {
   "cell_type": "code",
   "execution_count": 5,
   "id": "17a3ce41-de41-4ea1-bfa8-115be0e562c4",
   "metadata": {},
   "outputs": [],
   "source": [
    "books_titles = []\n",
    "with gzip.open(\"goodreads_books.json.gz\",'r') as f:\n",
    "    while True:\n",
    "        line = f.readline()\n",
    "        if not line:\n",
    "            break\n",
    "        fields = parse_fields(line)\n",
    "        try:\n",
    "            ratings = int(fields[\"ratings\"])\n",
    "        except ValueError:\n",
    "            continue\n",
    "        if ratings > 15:\n",
    "            books_titles.append(fields)"
   ]
  },
  {
   "cell_type": "code",
   "execution_count": 6,
   "id": "6d31a234-932b-459a-87ef-af21a7edca1e",
   "metadata": {},
   "outputs": [],
   "source": [
    "import pandas as pd\n",
    "\n",
    "titles = pd.DataFrame.from_dict(books_titles)"
   ]
  },
  {
   "cell_type": "code",
   "execution_count": 17,
   "id": "8847f85a-9c5e-4219-9ee3-ac707acc95ca",
   "metadata": {},
   "outputs": [
    {
     "data": {
      "text/plain": [
       "1302659"
      ]
     },
     "execution_count": 17,
     "metadata": {},
     "output_type": "execute_result"
    }
   ],
   "source": [
    "titles.shape[0]"
   ]
  },
  {
   "cell_type": "code",
   "execution_count": 11,
   "id": "a33b8436-958b-40a9-b7c6-74cb352eb468",
   "metadata": {},
   "outputs": [],
   "source": [
    "titles[\"ratings\"] = pd.to_numeric(titles[\"ratings\"])"
   ]
  },
  {
   "cell_type": "code",
   "execution_count": 13,
   "id": "94216bb6-4efb-4ae3-9741-99266d423cef",
   "metadata": {},
   "outputs": [],
   "source": [
    "titles[\"mod_title\"] = titles[\"title\"].str.replace(\"[^a-zA-Z0-9 ]\", \"\", regex=True)"
   ]
  },
  {
   "cell_type": "code",
   "execution_count": 14,
   "id": "c6f0e50d-f6e3-42ce-8cbf-e1bfde803b01",
   "metadata": {},
   "outputs": [],
   "source": [
    "titles[\"mod_title\"] = titles[\"mod_title\"].str.lower()"
   ]
  },
  {
   "cell_type": "code",
   "execution_count": 15,
   "id": "68535edd-ff7a-43ce-829c-fb0bd8064895",
   "metadata": {},
   "outputs": [],
   "source": [
    "titles[\"mod_title\"] = titles[\"mod_title\"].str.replace(\"\\s+\", \" \", regex=True)"
   ]
  },
  {
   "cell_type": "code",
   "execution_count": 16,
   "id": "d50e3a03-9c89-45b7-b0d0-0050232e5c4f",
   "metadata": {},
   "outputs": [],
   "source": [
    "titles = titles[titles[\"mod_title\"].str.len() > 0]"
   ]
  },
  {
   "cell_type": "code",
   "execution_count": 18,
   "id": "3f3e6127-6b6a-4dc3-9a01-51f2a803c1db",
   "metadata": {},
   "outputs": [],
   "source": [
    "titles.to_json(\"books_titles.json\")"
   ]
  },
  {
   "cell_type": "code",
   "execution_count": 20,
   "id": "daa2a250-8e4e-4340-b241-dfaf0758ee02",
   "metadata": {},
   "outputs": [
    {
     "data": {
      "text/plain": [
       "pandas.core.frame.DataFrame"
      ]
     },
     "execution_count": 20,
     "metadata": {},
     "output_type": "execute_result"
    }
   ],
   "source": [
    "type(titles)"
   ]
  },
  {
   "cell_type": "code",
   "execution_count": 21,
   "id": "fc17003a-e042-4844-b7f3-5bb807ee7570",
   "metadata": {},
   "outputs": [],
   "source": [
    "from sklearn.feature_extraction.text import TfidfVectorizer\n",
    "vectorizer = TfidfVectorizer()\n",
    "\n",
    "tfidf = vectorizer.fit_transform(titles[\"mod_title\"])"
   ]
  },
  {
   "cell_type": "code",
   "execution_count": 22,
   "id": "fc60567c-feb3-4ff4-8b5e-07c33d881351",
   "metadata": {},
   "outputs": [],
   "source": [
    "from sklearn.metrics.pairwise import cosine_similarity\n",
    "import numpy as np\n",
    "import re\n",
    "\n",
    "def make_clickable(val):\n",
    "    return '<a target=\"_blank\" href=\"{}\">Goodreads</a>'.format(val, val)\n",
    "\n",
    "def show_image(val):\n",
    "    return '<a href=\"{}\"><img src=\"{}\" width=50></img></a>'.format(val, val)\n",
    "\n",
    "def search(query,vectorizer):\n",
    "    processed = re.sub(\"[^a-zA-Z0-9 ]\", \"\", query.lower())\n",
    "    query_vec = vectorizer.transform([query])\n",
    "    similarity = cosine_similarity(query_vec, tfidf).flatten()\n",
    "    indices = np.argpartition(similarity, -10)[-10:]\n",
    "    results = titles.iloc[indices]\n",
    "    results = results.sort_values(\"ratings\", ascending=False)\n",
    "    \n",
    "    return results.head(5).style.format({'url': make_clickable, 'cover_image': show_image})"
   ]
  },
  {
   "cell_type": "code",
   "execution_count": 41,
   "id": "c5be8db0-bc22-4a69-b7ac-d3a1f9dd0d4f",
   "metadata": {},
   "outputs": [
    {
     "data": {
      "text/html": [
       "<style type=\"text/css\">\n",
       "</style>\n",
       "<table id=\"T_fce62\">\n",
       "  <thead>\n",
       "    <tr>\n",
       "      <th class=\"blank level0\" >&nbsp;</th>\n",
       "      <th id=\"T_fce62_level0_col0\" class=\"col_heading level0 col0\" >book_id</th>\n",
       "      <th id=\"T_fce62_level0_col1\" class=\"col_heading level0 col1\" >title</th>\n",
       "      <th id=\"T_fce62_level0_col2\" class=\"col_heading level0 col2\" >ratings</th>\n",
       "      <th id=\"T_fce62_level0_col3\" class=\"col_heading level0 col3\" >url</th>\n",
       "      <th id=\"T_fce62_level0_col4\" class=\"col_heading level0 col4\" >cover_image</th>\n",
       "      <th id=\"T_fce62_level0_col5\" class=\"col_heading level0 col5\" >mod_title</th>\n",
       "    </tr>\n",
       "  </thead>\n",
       "  <tbody>\n",
       "    <tr>\n",
       "      <th id=\"T_fce62_level0_row0\" class=\"row_heading level0 row0\" >1117410</th>\n",
       "      <td id=\"T_fce62_row0_col0\" class=\"data row0 col0\" >12346651</td>\n",
       "      <td id=\"T_fce62_row0_col1\" class=\"data row0 col1\" >The Picture of Dorian Grey</td>\n",
       "      <td id=\"T_fce62_row0_col2\" class=\"data row0 col2\" >6199</td>\n",
       "      <td id=\"T_fce62_row0_col3\" class=\"data row0 col3\" ><a target=\"_blank\" href=\"https://www.goodreads.com/book/show/12346651-the-picture-of-dorian-grey\">Goodreads</a></td>\n",
       "      <td id=\"T_fce62_row0_col4\" class=\"data row0 col4\" ><a href=\"https://images.gr-assets.com/books/1328399788m/12346651.jpg\"><img src=\"https://images.gr-assets.com/books/1328399788m/12346651.jpg\" width=50></img></a></td>\n",
       "      <td id=\"T_fce62_row0_col5\" class=\"data row0 col5\" >the picture of dorian grey</td>\n",
       "    </tr>\n",
       "    <tr>\n",
       "      <th id=\"T_fce62_level0_row1\" class=\"row_heading level0 row1\" >853406</th>\n",
       "      <td id=\"T_fce62_row1_col0\" class=\"data row1 col0\" >22515335</td>\n",
       "      <td id=\"T_fce62_row1_col1\" class=\"data row1 col1\" >The Picture of Dorian Gray</td>\n",
       "      <td id=\"T_fce62_row1_col2\" class=\"data row1 col2\" >234</td>\n",
       "      <td id=\"T_fce62_row1_col3\" class=\"data row1 col3\" ><a target=\"_blank\" href=\"https://www.goodreads.com/book/show/22515335-the-picture-of-dorian-gray\">Goodreads</a></td>\n",
       "      <td id=\"T_fce62_row1_col4\" class=\"data row1 col4\" ><a href=\"https://images.gr-assets.com/books/1414558903m/22515335.jpg\"><img src=\"https://images.gr-assets.com/books/1414558903m/22515335.jpg\" width=50></img></a></td>\n",
       "      <td id=\"T_fce62_row1_col5\" class=\"data row1 col5\" >the picture of dorian gray</td>\n",
       "    </tr>\n",
       "    <tr>\n",
       "      <th id=\"T_fce62_level0_row2\" class=\"row_heading level0 row2\" >798634</th>\n",
       "      <td id=\"T_fce62_row2_col0\" class=\"data row2 col0\" >14574838</td>\n",
       "      <td id=\"T_fce62_row2_col1\" class=\"data row2 col1\" >The Picture of Dorian Grey</td>\n",
       "      <td id=\"T_fce62_row2_col2\" class=\"data row2 col2\" >154</td>\n",
       "      <td id=\"T_fce62_row2_col3\" class=\"data row2 col3\" ><a target=\"_blank\" href=\"https://www.goodreads.com/book/show/14574838-the-picture-of-dorian-grey\">Goodreads</a></td>\n",
       "      <td id=\"T_fce62_row2_col4\" class=\"data row2 col4\" ><a href=\"https://images.gr-assets.com/books/1421410329m/14574838.jpg\"><img src=\"https://images.gr-assets.com/books/1421410329m/14574838.jpg\" width=50></img></a></td>\n",
       "      <td id=\"T_fce62_row2_col5\" class=\"data row2 col5\" >the picture of dorian grey</td>\n",
       "    </tr>\n",
       "    <tr>\n",
       "      <th id=\"T_fce62_level0_row3\" class=\"row_heading level0 row3\" >931170</th>\n",
       "      <td id=\"T_fce62_row3_col0\" class=\"data row3 col0\" >34506163</td>\n",
       "      <td id=\"T_fce62_row3_col1\" class=\"data row3 col1\" >The Picture of Dorian Grey</td>\n",
       "      <td id=\"T_fce62_row3_col2\" class=\"data row3 col2\" >107</td>\n",
       "      <td id=\"T_fce62_row3_col3\" class=\"data row3 col3\" ><a target=\"_blank\" href=\"https://www.goodreads.com/book/show/34506163-the-picture-of-dorian-grey\">Goodreads</a></td>\n",
       "      <td id=\"T_fce62_row3_col4\" class=\"data row3 col4\" ><a href=\"https://images.gr-assets.com/books/1489054805m/34506163.jpg\"><img src=\"https://images.gr-assets.com/books/1489054805m/34506163.jpg\" width=50></img></a></td>\n",
       "      <td id=\"T_fce62_row3_col5\" class=\"data row3 col5\" >the picture of dorian grey</td>\n",
       "    </tr>\n",
       "    <tr>\n",
       "      <th id=\"T_fce62_level0_row4\" class=\"row_heading level0 row4\" >17441</th>\n",
       "      <td id=\"T_fce62_row4_col0\" class=\"data row4 col0\" >35113385</td>\n",
       "      <td id=\"T_fce62_row4_col1\" class=\"data row4 col1\" >The Picture of Dorian Gray</td>\n",
       "      <td id=\"T_fce62_row4_col2\" class=\"data row4 col2\" >90</td>\n",
       "      <td id=\"T_fce62_row4_col3\" class=\"data row4 col3\" ><a target=\"_blank\" href=\"https://www.goodreads.com/book/show/35113385-the-picture-of-dorian-gray\">Goodreads</a></td>\n",
       "      <td id=\"T_fce62_row4_col4\" class=\"data row4 col4\" ><a href=\"https://images.gr-assets.com/books/1496336840m/35113385.jpg\"><img src=\"https://images.gr-assets.com/books/1496336840m/35113385.jpg\" width=50></img></a></td>\n",
       "      <td id=\"T_fce62_row4_col5\" class=\"data row4 col5\" >the picture of dorian gray</td>\n",
       "    </tr>\n",
       "  </tbody>\n",
       "</table>\n"
      ],
      "text/plain": [
       "<pandas.io.formats.style.Styler at 0x1c6f4cf35d0>"
      ]
     },
     "execution_count": 41,
     "metadata": {},
     "output_type": "execute_result"
    }
   ],
   "source": [
    "search(\"picture of dorian grey\", vectorizer)"
   ]
  },
  {
   "cell_type": "code",
   "execution_count": null,
   "id": "11f0128e-2eaf-405f-bc12-ad8d1d593215",
   "metadata": {},
   "outputs": [],
   "source": [
    "liked_books = [\"6882\",\"331567\",\"8349198\",\"4069\",\"2547\",\"14082\",\"12346651\"]"
   ]
  }
 ],
 "metadata": {
  "kernelspec": {
   "display_name": "Python 3 (ipykernel)",
   "language": "python",
   "name": "python3"
  },
  "language_info": {
   "codemirror_mode": {
    "name": "ipython",
    "version": 3
   },
   "file_extension": ".py",
   "mimetype": "text/x-python",
   "name": "python",
   "nbconvert_exporter": "python",
   "pygments_lexer": "ipython3",
   "version": "3.11.4"
  }
 },
 "nbformat": 4,
 "nbformat_minor": 5
}
